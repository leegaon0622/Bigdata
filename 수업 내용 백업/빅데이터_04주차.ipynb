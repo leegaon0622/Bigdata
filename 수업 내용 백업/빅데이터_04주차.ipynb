{
  "nbformat": 4,
  "nbformat_minor": 0,
  "metadata": {
    "colab": {
      "provenance": [],
      "include_colab_link": true
    },
    "kernelspec": {
      "name": "python3",
      "display_name": "Python 3"
    },
    "language_info": {
      "name": "python"
    }
  },
  "cells": [
    {
      "cell_type": "markdown",
      "metadata": {
        "id": "view-in-github",
        "colab_type": "text"
      },
      "source": [
        "<a href=\"https://colab.research.google.com/github/leegaon0622/Bigdata/blob/main/%EB%B9%85%EB%8D%B0%EC%9D%B4%ED%84%B0_04%EC%A3%BC%EC%B0%A8.ipynb\" target=\"_parent\"><img src=\"https://colab.research.google.com/assets/colab-badge.svg\" alt=\"Open In Colab\"/></a>"
      ]
    },
    {
      "cell_type": "markdown",
      "source": [
        "1.아래와 같은 구조를 갖는  데이터 프레임에서    (원본 객체 변경: iplace=True)  \n",
        "1) 이름을 index로 설정하고  \n",
        "2) '취미' 열을 삭제 하고    \n",
        "3) '나라' 행을 삭제 하고    \n",
        "4) '지민' 행을 이름 인덱스를 이용하여  추가 하여  '16, 중등, 효성'    데이터를 저장하고  \n",
        "5) column 이름 '학교'를 '교명'으로 바꾸고  \n",
        "6) 우석과 인아의 교명을 선경1, 한국1로 변경하고  \n",
        "7) 나이 기준 어린  순으로 행을 정렬 한 후  \n",
        "8) '국적'열을 추가 한 후 모두 '한국' 으로 저장 한 후  \n",
        "9) print하는 code를 작성 하시오  \n",
        "\n",
        "\n",
        "|이름|나이|구분|취미|학교 |\n",
        "|-|-|-|-|-|\n",
        "|우석|17|고등|독서|선경|\n",
        "|인아|14|중등|산책|한국|\n",
        "|나라|12|초등|축구|우성|\n",
        "|민정|19|고등|독서|효성|\n",
        "|서준|15|중등|농구|상성|\n"
      ],
      "metadata": {
        "id": "8o7-zj89WL_z"
      }
    },
    {
      "cell_type": "code",
      "source": [
        "%reset -f\n",
        "#과제 1\n",
        "import pandas as pd\n",
        "student_data = {'이름':['우석', '인아', '나라', '민정', '서준'],\n",
        "                '나이': [17,14,12,19,15],\n",
        "                '구분':['고등','중등','초등','고등','중등'],\n",
        "                '취미':['독서','산책','축구', '독서','농구'],\n",
        "                '학교':['선경','한국','우성','효성','상성'] }\n",
        "df=pd.DataFrame(student_data)\n",
        "print(df)\n",
        "\n",
        "#1)\n",
        "df.set_index(['이름'],inplace=True)\n",
        "\n",
        "#2)\n",
        "df.drop('취미',axis=1,inplace=True)\n",
        "\n",
        "#3)\n",
        "df.drop('나라',inplace=True)\n",
        "\n",
        "#4)\n",
        "df.loc['지민']= [16,'중등','효성']\n",
        "print(df)\n",
        "\n",
        "#5)\n",
        "df.rename(columns={'학교':'교명'},inplace=True)\n",
        "\n",
        "#6)\n",
        "df.loc['우석':'인아','교명']=['선경1','한국1']\n",
        "\n",
        "#7)\n",
        "df.sort_values(by='나이',inplace=True)\n",
        "\n",
        "#8)\n",
        "df['국적']='한국'\n",
        "\n",
        "#9)\n",
        "print(df)\n",
        "\n"
      ],
      "metadata": {
        "id": "rEV-JSUQHMHw",
        "colab": {
          "base_uri": "https://localhost:8080/"
        },
        "outputId": "4d67338b-1493-4853-fba6-934f60a1bde1"
      },
      "execution_count": null,
      "outputs": [
        {
          "output_type": "stream",
          "name": "stdout",
          "text": [
            "   이름  나이  구분  취미  학교\n",
            "0  우석  17  고등  독서  선경\n",
            "1  인아  14  중등  산책  한국\n",
            "2  나라  12  초등  축구  우성\n",
            "3  민정  19  고등  독서  효성\n",
            "4  서준  15  중등  농구  상성\n",
            "    나이  구분  학교\n",
            "이름            \n",
            "우석  17  고등  선경\n",
            "인아  14  중등  한국\n",
            "민정  19  고등  효성\n",
            "서준  15  중등  상성\n",
            "지민  16  중등  효성\n",
            "    나이  구분   교명  국적\n",
            "이름                 \n",
            "인아  14  중등  한국1  한국\n",
            "서준  15  중등   상성  한국\n",
            "지민  16  중등   효성  한국\n",
            "우석  17  고등  선경1  한국\n",
            "민정  19  고등   효성  한국\n"
          ]
        }
      ]
    },
    {
      "cell_type": "markdown",
      "source": [
        "2.아래와 같은 구조를 갖는  데이터 프레임에서    (원본 객체 변경: iplace=True)  \n",
        "1) '인문' 열을 추가 하여 영어와 국어 성적의 합계를 저장하고  \n",
        "2) '과학' 열을 추가 하여 물리와 화학 성적의 합계를 저장하고  \n",
        "3)  과학 성적으로 내림 차순으로 정렬하고  \n",
        "4) print하는 code를 작성하시오.   \n",
        "\n",
        "\n",
        "|이름|국어|영어|물리|화학|\n",
        "|-|-|-|-|-|\n",
        "|우석|90|85|70|50|\n",
        "|인아|80|90|80|70|\n",
        "|나라|75|85|80|90|\n",
        "|민정|90|95|90|100|\n"
      ],
      "metadata": {
        "id": "aeIHBDaXBjdY"
      }
    },
    {
      "cell_type": "code",
      "source": [
        "%reset -f\n",
        "#과제 2\n",
        "import pandas as pd\n",
        "student_data = {'이름':['우석', '인아', '나라', '민정'],\n",
        "                '국어':[90,80,75,90],\n",
        "                '영어':[85,90,85,95],\n",
        "                '물리':[70,80,80,90],\n",
        "                '화학':[50,70,90,100] }\n",
        "df=pd.DataFrame(student_data)\n",
        "print(df)\n",
        "\n",
        "#1)\n",
        "df['인문']=df['영어']+df['국어']\n",
        "\n",
        "#2)\n",
        "df['과학']=df['물리']+df['화학']\n",
        "\n",
        "#3)\n",
        "df.sort_values(by='과학',ascending=False,inplace=True)\n",
        "\n",
        "#4)\n",
        "print(df)\n",
        "\n",
        "\n"
      ],
      "metadata": {
        "id": "QvpuPIQHix-N"
      },
      "execution_count": null,
      "outputs": []
    },
    {
      "cell_type": "markdown",
      "source": [
        "3.1) iris3.csv 파일을 읽고 (첫번째 행을 column 이름으로)  \n",
        "2) column 이름을 'feat1','feat2','feat3','feat4','name'으로 변경하고  \n",
        "3) 처음 3개 행을 print하고  \n",
        "4) 요약 정보를 print하고  \n",
        "5) 통계 정보를 print하고  \n",
        "6) 각 열 데이터의 고유값 개수를 print하고  \n",
        "7) 'feat2' 열의 최대값 print  \n",
        "8) 'feat4' 열의 표준 편차 print   \n",
        "9) 'feat1'과 'feat3'의 상관계수를 출력하는 코드를 작성 하시오.   "
      ],
      "metadata": {
        "id": "zzqNIdeZEGNk"
      }
    },
    {
      "cell_type": "code",
      "source": [
        "%reset -f\n",
        "#과제 3\n",
        "import pandas as pd\n",
        "\n",
        "#1)\n",
        "df=pd.read_csv('iris3.csv')\n",
        "#2)\n",
        "df.columns=['feat1','feat2','feat3','feat4','name']\n",
        "#3)\n",
        "print(df.head(3))\n",
        "#4)\n",
        "print(df.info())\n",
        "#5)\n",
        "print(df.describe())\n",
        "#6)\n",
        "print(df['name'].value_counts())\n",
        "#7)\n",
        "print(df['feat2'].max())\n",
        "#8)\n",
        "print(df['feat4'].std())\n",
        "#9)\n",
        "print(df[['feat1','feat3']].corr())\n",
        "\n",
        "\n"
      ],
      "metadata": {
        "id": "NPH_5r7DBi4L",
        "colab": {
          "base_uri": "https://localhost:8080/"
        },
        "outputId": "f545a620-3fd6-43d3-c055-9e506bdcd02f"
      },
      "execution_count": null,
      "outputs": [
        {
          "output_type": "stream",
          "name": "stdout",
          "text": [
            "   feat1  feat2  feat3  feat4         name\n",
            "0    5.1    3.5    1.4    0.2  Iris-setosa\n",
            "1    4.9    3.0    1.4    0.2  Iris-setosa\n",
            "2    4.7    3.2    1.3    0.2  Iris-setosa\n",
            "<class 'pandas.core.frame.DataFrame'>\n",
            "RangeIndex: 150 entries, 0 to 149\n",
            "Data columns (total 5 columns):\n",
            " #   Column  Non-Null Count  Dtype  \n",
            "---  ------  --------------  -----  \n",
            " 0   feat1   150 non-null    float64\n",
            " 1   feat2   150 non-null    float64\n",
            " 2   feat3   150 non-null    float64\n",
            " 3   feat4   150 non-null    float64\n",
            " 4   name    150 non-null    object \n",
            "dtypes: float64(4), object(1)\n",
            "memory usage: 6.0+ KB\n",
            "None\n",
            "            feat1       feat2       feat3       feat4\n",
            "count  150.000000  150.000000  150.000000  150.000000\n",
            "mean     5.843333    3.054000    3.758667    1.198667\n",
            "std      0.828066    0.433594    1.764420    0.763161\n",
            "min      4.300000    2.000000    1.000000    0.100000\n",
            "25%      5.100000    2.800000    1.600000    0.300000\n",
            "50%      5.800000    3.000000    4.350000    1.300000\n",
            "75%      6.400000    3.300000    5.100000    1.800000\n",
            "max      7.900000    4.400000    6.900000    2.500000\n",
            "Iris-setosa        50\n",
            "Iris-versicolor    50\n",
            "Iris-virginica     50\n",
            "Name: name, dtype: int64\n",
            "4.4\n",
            "0.7631607417008411\n",
            "          feat1     feat3\n",
            "feat1  1.000000  0.871754\n",
            "feat3  0.871754  1.000000\n"
          ]
        }
      ]
    },
    {
      "cell_type": "markdown",
      "source": [
        "4.code에서 정의한 데이터에서   \n",
        "1) 하나라도 NaN이 있는 행은 삭제하고 print하는 code  (df1에 저장 후 print)    \n",
        "2) 모든 값이  NaN인  행을 삭제하고 print하는 code  (df2에 저장 후 print)   \n",
        "3) NaN이 포함된 행을 삭제할때 데이터가 4개 이상 있어야 남기도록 하고  (df3)   print하는 code를 작성 하시오"
      ],
      "metadata": {
        "id": "JenW-aaDix94"
      }
    },
    {
      "cell_type": "code",
      "source": [
        "%reset -f\n",
        "#과제 4\n",
        "import pandas as pd\n",
        "\n",
        "import numpy as np\n",
        "\n",
        "raw_data = {'name': ['Jason', np.nan, 'Tina', 'Jake', 'Amy'],\n",
        "            'age': [42, np.nan, 36, np.nan, 73],\n",
        "            'math': [4, np.nan, np.nan, 2, 3],\n",
        "            'physics': [25, np.nan, np.nan, 62, 70],\n",
        "             'korean': [25, np.nan, np.nan, 62, 70]}\n",
        "\n",
        "df = pd.DataFrame(raw_data)\n",
        "print(df)\n",
        "df1=df[:]\n",
        "#1)\n",
        "df1.dropna(how='any',inplace=True)\n",
        "print(df1)\n",
        "\n",
        "df2=df[:]\n",
        "#2)\n",
        "df2.dropna(how='all',inplace=True)\n",
        "print(df2)\n",
        "\n",
        "df3=df[:]\n",
        "#3)\n",
        "df3.dropna(thread=4,inplace=True)\n",
        "print(df3)"
      ],
      "metadata": {
        "id": "1ySywsZfgztB"
      },
      "execution_count": null,
      "outputs": []
    },
    {
      "cell_type": "markdown",
      "source": [
        "5.1) 'exam1.csv'파일을 읽고 (첫번째 행이 열이름이 되도록)   \n",
        "2) english의 결측치는 0으로 치환하고     \n",
        "3) math의 결측치는 math의 평균 값으로 치환하고   \n",
        "4) nclass의 결측치는 앞에 값으로 치환하고  \n",
        "5) print하는 code를 작성하시오  \n",
        "(inplace=True 사용)  \n",
        "\n",
        "\n",
        "\n"
      ],
      "metadata": {
        "id": "DAD6yskllzZd"
      }
    },
    {
      "cell_type": "code",
      "source": [
        "%reset -f\n",
        "#과제 5\n",
        "import pandas as pd\n",
        "#1)\n",
        "df=pd.read_csv('exam1.csv')\n",
        "\n",
        "#2)\n",
        "df['english'].fillna(0,inplace=True)\n",
        "#2)\n",
        "math_mean = df['math'].mean()\n",
        "df['math'].fillna(math_mean,inplace=True)\n",
        "#3)\n",
        "df['nclass'].fillna(method='ffill',inplace=True)\n",
        "#5)\n",
        "print(df)\n"
      ],
      "metadata": {
        "id": "-7H36PCPlxus"
      },
      "execution_count": null,
      "outputs": []
    },
    {
      "cell_type": "markdown",
      "source": [
        "6.아래 code에서 정의하는 데이터 프레임에서    \n",
        "1) 중복 행을 제거 하고 print하는 code(df1)  \n",
        "2) c1,c3을 기준으로 중복행을 제거 하고 print하는 code(df2)  \n",
        "를 작성 하시오.\n"
      ],
      "metadata": {
        "id": "qZ4lTbXXmya5"
      }
    },
    {
      "cell_type": "code",
      "source": [
        "%reset -f\n",
        "#과제 6\n",
        "import pandas as pd\n",
        "\n",
        "df=pd.DataFrame({'c1':['a','a','b','a','b'],\n",
        "                 'c2':[2,1,2,1,2],\n",
        "                 'c3':[1,1,2,2,2]})\n",
        "print(df)\n",
        "\n",
        "#1)\n",
        "df1=df.drop_duplicates()\n",
        "print(df1)\n",
        "#2)\n",
        "df2=df.drop_duplicates(subset=['c1','c3'])\n",
        "print(df2)"
      ],
      "metadata": {
        "id": "rW8kHhAIpY9p",
        "colab": {
          "base_uri": "https://localhost:8080/"
        },
        "outputId": "3db7c352-7179-42c5-d2eb-c0147e0e55de"
      },
      "execution_count": null,
      "outputs": [
        {
          "output_type": "stream",
          "name": "stdout",
          "text": [
            "  c1  c2  c3\n",
            "0  a   2   1\n",
            "1  a   1   1\n",
            "2  b   2   2\n",
            "3  a   1   2\n",
            "4  b   2   2\n",
            "  c1  c2  c3\n",
            "0  a   2   1\n",
            "1  a   1   1\n",
            "2  b   2   2\n",
            "3  a   1   2\n",
            "  c1  c2  c3\n",
            "0  a   2   1\n",
            "2  b   2   2\n",
            "3  a   1   2\n"
          ]
        }
      ]
    },
    {
      "cell_type": "markdown",
      "source": [
        "7.1) wine1.cse 파일을 읽고 (첫행부터 데이터로 읽음)  \n",
        "2) column 이름을 'country', 'year','feat1','fest2','fest3','feat4'로 지정하고  \n",
        "3) country의 누락 데이터는 france로 저장하고  \n",
        "4) feat1, feat2, feat3, feat4의 누락 데이터는 각 열의 평균으로 저장하고  \n",
        "5) 'country','year' 기준으로 중복데이터를 제거 하고  \n",
        "6) 'feat1-2' 열을 추가 하여 feat1과 feat2의 핪의 값을 저장하고  \n",
        "7) 'year'를 기준으로 오름 차순으로 출력하는 code를 작성 하시오.\n",
        "\n"
      ],
      "metadata": {
        "id": "TSeBK_DXrS42"
      }
    },
    {
      "cell_type": "code",
      "source": [
        "%reset -f\n",
        "#과제 7\n",
        "import pandas as pd\n",
        "\n",
        "#1)\n",
        "df=pd.read_csv('wine1.csv',header=None)\n",
        "#2)\n",
        "df.columns=['country','year','feat1','feat2','feat3','feat4']\n",
        "#3)\n",
        "df['country'].fillna('france',inplace=True)\n",
        "#4)\n",
        "feat1_mean=df['feat1'].mean()\n",
        "feat2_mean=df['feat2'].mean()\n",
        "feat3_mean=df['feat3'].mean()\n",
        "feat4_mean=df['feat4'].mean()\n",
        "df['feat1'].fillna(feat1_mean,inplace=True)\n",
        "df['feat2'].fillna(feat2_mean,inplace=True)\n",
        "df['feat3'].fillna(feat3_mean,inplace=True)\n",
        "df['feat4'].fillna(feat4_mean,inplace=True)\n",
        "#5)\n",
        "df.drop_duplicates(subset=['country','year'],inplace=True)\n",
        "#6)\n",
        "df['feat1-2']=df['feat1']+df['feat2']\n",
        "#7)\n",
        "print(df.sort_values(by='year'))\n",
        "\n",
        "\n",
        "\n",
        "\n"
      ],
      "metadata": {
        "id": "rVueVatHppCI",
        "colab": {
          "base_uri": "https://localhost:8080/"
        },
        "outputId": "5dee9c4d-10d2-4992-b8a4-8528882a3709"
      },
      "execution_count": null,
      "outputs": [
        {
          "output_type": "stream",
          "name": "stdout",
          "text": [
            "  country  year  feat1  feat2  feat3  feat4  feat1-2\n",
            "0  france  1970   7.40   0.70   0.00   1.90     8.10\n",
            "6   italy  1980   7.90   0.60   0.06   1.60     8.50\n",
            "1  france  1990   7.80   0.88   0.00   2.60     8.68\n",
            "4     usa  1990   7.40   0.70   0.00   2.32     8.10\n",
            "5  france  1995   7.40   0.66   0.00   1.80     8.06\n",
            "9     usa  1995   7.50   0.50   0.36   6.10     8.00\n",
            "3   chile  2000  11.20   0.28   0.56   1.90    11.48\n",
            "8     usa  2000   7.80   0.58   0.02   2.00     8.38\n",
            "2   italy  2010   7.91   0.76   0.04   2.30     8.67\n"
          ]
        }
      ]
    }
  ]
}
