{
  "nbformat": 4,
  "nbformat_minor": 0,
  "metadata": {
    "colab": {
      "provenance": [],
      "include_colab_link": true
    },
    "kernelspec": {
      "name": "python3",
      "display_name": "Python 3"
    },
    "language_info": {
      "name": "python"
    }
  },
  "cells": [
    {
      "cell_type": "markdown",
      "metadata": {
        "id": "view-in-github",
        "colab_type": "text"
      },
      "source": [
        "<a href=\"https://colab.research.google.com/github/leegaon0622/Bigdata/blob/main/%EB%B9%85%EB%8D%B0%EC%9D%B4%ED%84%B0_6%EC%A3%BC%EC%B0%A8_3.ipynb\" target=\"_parent\"><img src=\"https://colab.research.google.com/assets/colab-badge.svg\" alt=\"Open In Colab\"/></a>"
      ]
    },
    {
      "cell_type": "code",
      "execution_count": null,
      "metadata": {
        "colab": {
          "base_uri": "https://localhost:8080/"
        },
        "id": "FfMIuSYUNJRI",
        "outputId": "8c913b02-9186-46f5-8e92-14e355540b06"
      },
      "outputs": [
        {
          "output_type": "stream",
          "name": "stdout",
          "text": [
            "[6.6 3.  4.4 1.4] : versicolor\n",
            "[5.  3.4 1.6 0.4] : setosa\n",
            "[6.7 3.  5.  1.7] : virginica\n",
            "[4.8 3.  1.4 0.1] : setosa\n",
            "[7.7 2.8 6.7 2. ] : virginica\n",
            "[4.8 3.  1.4 0.3] : setosa\n",
            "[5.7 2.8 4.1 1.3] : versicolor\n",
            "[5.8 4.  1.2 0.2] : setosa\n",
            "[5.  2.  3.5 1. ] : versicolor\n",
            "[6.1 2.8 4.7 1.2] : versicolor\n",
            "[5.5 2.4 3.8 1.1] : versicolor\n",
            "[6.2 2.2 4.5 1.5] : versicolor\n",
            "[7.9 3.8 6.4 2. ] : virginica\n",
            "[5.8 2.7 5.1 1.9] : virginica\n",
            "[6.7 3.1 4.7 1.5] : versicolor\n",
            "[4.9 3.1 1.5 0.2] : setosa\n",
            "[6.2 3.4 5.4 2.3] : virginica\n",
            "[5.4 3.4 1.7 0.2] : setosa\n",
            "[4.4 3.  1.3 0.2] : setosa\n",
            "[4.4 3.2 1.3 0.2] : setosa\n",
            "[5.1 3.5 1.4 0.2] : setosa\n",
            "[6.3 2.7 4.9 1.8] : virginica\n",
            "[5.8 2.7 4.1 1. ] : versicolor\n",
            "[5.6 3.  4.5 1.5] : versicolor\n",
            "[6.3 3.3 6.  2.5] : virginica\n",
            "[5.5 2.5 4.  1.3] : versicolor\n",
            "[6.4 3.2 5.3 2.3] : virginica\n",
            "[5.9 3.2 4.8 1.8] : versicolor\n",
            "[5.2 4.1 1.5 0.1] : setosa\n",
            "[6.3 2.5 4.9 1.5] : versicolor\n",
            "테스트 세트의 정확도 : 0.9666666666666667\n"
          ]
        }
      ],
      "source": [
        "from sklearn.datasets import load_iris\n",
        "\n",
        "iris_dataset = load_iris()\n",
        "\n",
        "from sklearn.neighbors import KNeighborsClassifier\n",
        "knn = KNeighborsClassifier(n_neighbors=10)\n",
        "\n",
        "from sklearn.model_selection import train_test_split\n",
        "X_train, X_test, y_train, y_test = train_test_split( iris_dataset['data'], iris_dataset['target'], test_size=0.2)\n",
        "\n",
        "knn.fit(X_train, y_train)\n",
        "\n",
        "y_prediction = knn.predict(X_test) #X_test(data)에 대하여 품종예측\n",
        "\n",
        "for i in range(0,len(y_prediction)):\n",
        "  y_pred = y_prediction[i]\n",
        "  print(\"{} : {}\".format(X_test[i],iris_dataset['target_names'][y_pred]))\n",
        "\n",
        "print(\"테스트 세트의 정확도 :\",knn.score(X_test, y_test))"
      ]
    }
  ]
}