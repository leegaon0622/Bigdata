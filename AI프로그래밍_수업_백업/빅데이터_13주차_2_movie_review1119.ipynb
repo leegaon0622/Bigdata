{
  "nbformat": 4,
  "nbformat_minor": 0,
  "metadata": {
    "colab": {
      "provenance": [],
      "include_colab_link": true
    },
    "kernelspec": {
      "name": "python3",
      "display_name": "Python 3"
    },
    "language_info": {
      "name": "python"
    }
  },
  "cells": [
    {
      "cell_type": "markdown",
      "metadata": {
        "id": "view-in-github",
        "colab_type": "text"
      },
      "source": [
        "<a href=\"https://colab.research.google.com/github/leegaon0622/Bigdata/blob/main/%EB%B9%85%EB%8D%B0%EC%9D%B4%ED%84%B0_13%EC%A3%BC%EC%B0%A8_2_movie_review1119.ipynb\" target=\"_parent\"><img src=\"https://colab.research.google.com/assets/colab-badge.svg\" alt=\"Open In Colab\"/></a>"
      ]
    },
    {
      "cell_type": "markdown",
      "source": [
        "과제2)\n",
        "test_movie_review30.csv   파일의 label 컬럼을 채우고  \n",
        "\n",
        "마지막 줄에는 영화 타이틀, 리뷰, label 을 채운 후  \n",
        "\n",
        "다음  code를 수행 하여 예측 결과와 label의 차이를 확인.  \n",
        "movie_review1119.ipynb와  review_results.txt 제출"
      ],
      "metadata": {
        "id": "W_RKuMFRwkSU"
      }
    },
    {
      "cell_type": "code",
      "source": [
        "!pip install konlpy"
      ],
      "metadata": {
        "id": "iZ_3qqORbUm6",
        "colab": {
          "base_uri": "https://localhost:8080/"
        },
        "outputId": "bdd01aec-6ff9-497f-fdb7-352ca60cd2b7"
      },
      "execution_count": null,
      "outputs": [
        {
          "output_type": "stream",
          "name": "stdout",
          "text": [
            "Looking in indexes: https://pypi.org/simple, https://us-python.pkg.dev/colab-wheels/public/simple/\n",
            "Collecting konlpy\n",
            "  Downloading konlpy-0.6.0-py2.py3-none-any.whl (19.4 MB)\n",
            "\u001b[K     |████████████████████████████████| 19.4 MB 1.2 MB/s \n",
            "\u001b[?25hCollecting JPype1>=0.7.0\n",
            "  Downloading JPype1-1.4.1-cp37-cp37m-manylinux_2_12_x86_64.manylinux2010_x86_64.whl (465 kB)\n",
            "\u001b[K     |████████████████████████████████| 465 kB 43.3 MB/s \n",
            "\u001b[?25hRequirement already satisfied: numpy>=1.6 in /usr/local/lib/python3.7/dist-packages (from konlpy) (1.21.6)\n",
            "Requirement already satisfied: lxml>=4.1.0 in /usr/local/lib/python3.7/dist-packages (from konlpy) (4.9.1)\n",
            "Requirement already satisfied: typing-extensions in /usr/local/lib/python3.7/dist-packages (from JPype1>=0.7.0->konlpy) (4.1.1)\n",
            "Requirement already satisfied: packaging in /usr/local/lib/python3.7/dist-packages (from JPype1>=0.7.0->konlpy) (21.3)\n",
            "Requirement already satisfied: pyparsing!=3.0.5,>=2.0.2 in /usr/local/lib/python3.7/dist-packages (from packaging->JPype1>=0.7.0->konlpy) (3.0.9)\n",
            "Installing collected packages: JPype1, konlpy\n",
            "Successfully installed JPype1-1.4.1 konlpy-0.6.0\n"
          ]
        }
      ]
    },
    {
      "cell_type": "code",
      "source": [
        "from konlpy.tag import Okt\n",
        "\n",
        "okt = Okt()\n",
        "def okt_tokenizer(text):\n",
        "    tokens = okt.morphs(text)\n",
        "    return tokens"
      ],
      "metadata": {
        "id": "5H_tXu7PbV0W"
      },
      "execution_count": null,
      "outputs": []
    },
    {
      "cell_type": "code",
      "source": [
        "import pandas as pd\n",
        "test_df = pd.read_csv('/content/test_movie_review30.csv', encoding='utf8')\n",
        "test_df.head()"
      ],
      "metadata": {
        "id": "f65Wznh9TEKt",
        "colab": {
          "base_uri": "https://localhost:8080/",
          "height": 213
        },
        "outputId": "4e3aeb67-f75f-47fe-dd93-9f922d80df6c"
      },
      "execution_count": null,
      "outputs": [
        {
          "output_type": "execute_result",
          "data": {
            "text/plain": [
              "             title                                        review  label\n",
              "0  블랙 펜서 : 와칸다 포에버                     히어로 액션 영화에 히어로도 없고 액션도 없음      0\n",
              "1  블랙 펜서 : 와칸다 포에버                                    스케일은 역시...      1\n",
              "2  블랙 펜서 : 와칸다 포에버                              채드윅 보스만이 그리워짐...      0\n",
              "3  블랙 펜서 : 와칸다 포에버  전편만한 속편 없겠으나 주인공이 부재한 상황에서는 할수있는 최선의 선택으로 보임      1\n",
              "4  블랙 펜서 : 와칸다 포에버                              채드윅 보스만 빈자리가 아쉽다      0"
            ],
            "text/html": [
              "\n",
              "  <div id=\"df-2fe920f1-6d55-4a38-9aa6-db37cbaa9839\">\n",
              "    <div class=\"colab-df-container\">\n",
              "      <div>\n",
              "<style scoped>\n",
              "    .dataframe tbody tr th:only-of-type {\n",
              "        vertical-align: middle;\n",
              "    }\n",
              "\n",
              "    .dataframe tbody tr th {\n",
              "        vertical-align: top;\n",
              "    }\n",
              "\n",
              "    .dataframe thead th {\n",
              "        text-align: right;\n",
              "    }\n",
              "</style>\n",
              "<table border=\"1\" class=\"dataframe\">\n",
              "  <thead>\n",
              "    <tr style=\"text-align: right;\">\n",
              "      <th></th>\n",
              "      <th>title</th>\n",
              "      <th>review</th>\n",
              "      <th>label</th>\n",
              "    </tr>\n",
              "  </thead>\n",
              "  <tbody>\n",
              "    <tr>\n",
              "      <th>0</th>\n",
              "      <td>블랙 펜서 : 와칸다 포에버</td>\n",
              "      <td>히어로 액션 영화에 히어로도 없고 액션도 없음</td>\n",
              "      <td>0</td>\n",
              "    </tr>\n",
              "    <tr>\n",
              "      <th>1</th>\n",
              "      <td>블랙 펜서 : 와칸다 포에버</td>\n",
              "      <td>스케일은 역시...</td>\n",
              "      <td>1</td>\n",
              "    </tr>\n",
              "    <tr>\n",
              "      <th>2</th>\n",
              "      <td>블랙 펜서 : 와칸다 포에버</td>\n",
              "      <td>채드윅 보스만이 그리워짐...</td>\n",
              "      <td>0</td>\n",
              "    </tr>\n",
              "    <tr>\n",
              "      <th>3</th>\n",
              "      <td>블랙 펜서 : 와칸다 포에버</td>\n",
              "      <td>전편만한 속편 없겠으나 주인공이 부재한 상황에서는 할수있는 최선의 선택으로 보임</td>\n",
              "      <td>1</td>\n",
              "    </tr>\n",
              "    <tr>\n",
              "      <th>4</th>\n",
              "      <td>블랙 펜서 : 와칸다 포에버</td>\n",
              "      <td>채드윅 보스만 빈자리가 아쉽다</td>\n",
              "      <td>0</td>\n",
              "    </tr>\n",
              "  </tbody>\n",
              "</table>\n",
              "</div>\n",
              "      <button class=\"colab-df-convert\" onclick=\"convertToInteractive('df-2fe920f1-6d55-4a38-9aa6-db37cbaa9839')\"\n",
              "              title=\"Convert this dataframe to an interactive table.\"\n",
              "              style=\"display:none;\">\n",
              "        \n",
              "  <svg xmlns=\"http://www.w3.org/2000/svg\" height=\"24px\"viewBox=\"0 0 24 24\"\n",
              "       width=\"24px\">\n",
              "    <path d=\"M0 0h24v24H0V0z\" fill=\"none\"/>\n",
              "    <path d=\"M18.56 5.44l.94 2.06.94-2.06 2.06-.94-2.06-.94-.94-2.06-.94 2.06-2.06.94zm-11 1L8.5 8.5l.94-2.06 2.06-.94-2.06-.94L8.5 2.5l-.94 2.06-2.06.94zm10 10l.94 2.06.94-2.06 2.06-.94-2.06-.94-.94-2.06-.94 2.06-2.06.94z\"/><path d=\"M17.41 7.96l-1.37-1.37c-.4-.4-.92-.59-1.43-.59-.52 0-1.04.2-1.43.59L10.3 9.45l-7.72 7.72c-.78.78-.78 2.05 0 2.83L4 21.41c.39.39.9.59 1.41.59.51 0 1.02-.2 1.41-.59l7.78-7.78 2.81-2.81c.8-.78.8-2.07 0-2.86zM5.41 20L4 18.59l7.72-7.72 1.47 1.35L5.41 20z\"/>\n",
              "  </svg>\n",
              "      </button>\n",
              "      \n",
              "  <style>\n",
              "    .colab-df-container {\n",
              "      display:flex;\n",
              "      flex-wrap:wrap;\n",
              "      gap: 12px;\n",
              "    }\n",
              "\n",
              "    .colab-df-convert {\n",
              "      background-color: #E8F0FE;\n",
              "      border: none;\n",
              "      border-radius: 50%;\n",
              "      cursor: pointer;\n",
              "      display: none;\n",
              "      fill: #1967D2;\n",
              "      height: 32px;\n",
              "      padding: 0 0 0 0;\n",
              "      width: 32px;\n",
              "    }\n",
              "\n",
              "    .colab-df-convert:hover {\n",
              "      background-color: #E2EBFA;\n",
              "      box-shadow: 0px 1px 2px rgba(60, 64, 67, 0.3), 0px 1px 3px 1px rgba(60, 64, 67, 0.15);\n",
              "      fill: #174EA6;\n",
              "    }\n",
              "\n",
              "    [theme=dark] .colab-df-convert {\n",
              "      background-color: #3B4455;\n",
              "      fill: #D2E3FC;\n",
              "    }\n",
              "\n",
              "    [theme=dark] .colab-df-convert:hover {\n",
              "      background-color: #434B5C;\n",
              "      box-shadow: 0px 1px 3px 1px rgba(0, 0, 0, 0.15);\n",
              "      filter: drop-shadow(0px 1px 2px rgba(0, 0, 0, 0.3));\n",
              "      fill: #FFFFFF;\n",
              "    }\n",
              "  </style>\n",
              "\n",
              "      <script>\n",
              "        const buttonEl =\n",
              "          document.querySelector('#df-2fe920f1-6d55-4a38-9aa6-db37cbaa9839 button.colab-df-convert');\n",
              "        buttonEl.style.display =\n",
              "          google.colab.kernel.accessAllowed ? 'block' : 'none';\n",
              "\n",
              "        async function convertToInteractive(key) {\n",
              "          const element = document.querySelector('#df-2fe920f1-6d55-4a38-9aa6-db37cbaa9839');\n",
              "          const dataTable =\n",
              "            await google.colab.kernel.invokeFunction('convertToInteractive',\n",
              "                                                     [key], {});\n",
              "          if (!dataTable) return;\n",
              "\n",
              "          const docLinkHtml = 'Like what you see? Visit the ' +\n",
              "            '<a target=\"_blank\" href=https://colab.research.google.com/notebooks/data_table.ipynb>data table notebook</a>'\n",
              "            + ' to learn more about interactive tables.';\n",
              "          element.innerHTML = '';\n",
              "          dataTable['output_type'] = 'display_data';\n",
              "          await google.colab.output.renderOutput(dataTable, element);\n",
              "          const docLink = document.createElement('div');\n",
              "          docLink.innerHTML = docLinkHtml;\n",
              "          element.appendChild(docLink);\n",
              "        }\n",
              "      </script>\n",
              "    </div>\n",
              "  </div>\n",
              "  "
            ]
          },
          "metadata": {},
          "execution_count": 37
        }
      ]
    },
    {
      "cell_type": "code",
      "source": [
        "print(test_df['label'].value_counts())"
      ],
      "metadata": {
        "id": "8nqhtRD8TaGV",
        "colab": {
          "base_uri": "https://localhost:8080/"
        },
        "outputId": "6afb101d-4c62-4027-b4d6-8d1257944b15"
      },
      "execution_count": null,
      "outputs": [
        {
          "output_type": "stream",
          "name": "stdout",
          "text": [
            "1    15\n",
            "0    14\n",
            "Name: label, dtype: int64\n"
          ]
        }
      ]
    },
    {
      "cell_type": "markdown",
      "source": [
        "한글이 아닌것은 공백으로 치환"
      ],
      "metadata": {
        "id": "5764OuQZZ4gQ"
      }
    },
    {
      "cell_type": "code",
      "source": [
        "import re\n",
        "test_df['review'] = test_df['review'].apply(lambda x : re.sub(r'[^ ㄱ-ㅣ가-힣]+', \"\", x))"
      ],
      "metadata": {
        "id": "azaguNA_TjYv"
      },
      "execution_count": null,
      "outputs": []
    },
    {
      "cell_type": "code",
      "source": [
        "print(test_df['review'].head())"
      ],
      "metadata": {
        "id": "VTV8-jNEWB05",
        "colab": {
          "base_uri": "https://localhost:8080/"
        },
        "outputId": "7ba169bd-4149-42ee-f1c9-8aeddd1644df"
      },
      "execution_count": null,
      "outputs": [
        {
          "output_type": "stream",
          "name": "stdout",
          "text": [
            "0                       히어로 액션 영화에 히어로도 없고 액션도 없음\n",
            "1                                         스케일은 역시\n",
            "2                                   채드윅 보스만이 그리워짐\n",
            "3    전편만한 속편 없겠으나 주인공이 부재한 상황에서는 할수있는 최선의 선택으로 보임\n",
            "4                                채드윅 보스만 빈자리가 아쉽다\n",
            "Name: review, dtype: object\n"
          ]
        }
      ]
    },
    {
      "cell_type": "markdown",
      "source": [
        "토큰 생성기 load"
      ],
      "metadata": {
        "id": "m1Bc3MHBabTS"
      }
    },
    {
      "cell_type": "code",
      "source": [
        "import joblib\n",
        "tfidf = joblib.load('/content/tf_model.pkl')\n",
        "test_tfidf = tfidf.transform(test_df['review'])"
      ],
      "metadata": {
        "id": "Tn0gkv3fXJDT"
      },
      "execution_count": null,
      "outputs": []
    },
    {
      "cell_type": "markdown",
      "source": [
        "감성 분류 모델 load"
      ],
      "metadata": {
        "id": "EW5HfykFadg6"
      }
    },
    {
      "cell_type": "code",
      "source": [
        "lr_model = joblib.load('/content/lr_model.pkl')"
      ],
      "metadata": {
        "id": "7khrojnrUhVG"
      },
      "execution_count": null,
      "outputs": []
    },
    {
      "cell_type": "code",
      "source": [
        "test_predict=lr_model.predict(test_tfidf)\n",
        "from sklearn.metrics import accuracy_score\n",
        "\n",
        "print('감성 분석 정확도 : ', round(accuracy_score(test_df['label'], test_predict), 3))"
      ],
      "metadata": {
        "id": "0d4swb6cUmLX",
        "colab": {
          "base_uri": "https://localhost:8080/"
        },
        "outputId": "19cb7d68-ea8b-499c-b537-a2e811cd318b"
      },
      "execution_count": null,
      "outputs": [
        {
          "output_type": "stream",
          "name": "stdout",
          "text": [
            "감성 분석 정확도 :  0.897\n"
          ]
        }
      ]
    },
    {
      "cell_type": "code",
      "source": [
        "test_df['predicted_label']=test_predict"
      ],
      "metadata": {
        "id": "2HPffUyAbkHg"
      },
      "execution_count": null,
      "outputs": []
    },
    {
      "cell_type": "code",
      "source": [
        "print('### 영화별 긍정 review 수 ###')\n",
        "print(test_df.groupby('title')['predicted_label'].sum())\n"
      ],
      "metadata": {
        "id": "oTKOend8buYH",
        "colab": {
          "base_uri": "https://localhost:8080/"
        },
        "outputId": "34daaefc-3cf2-4b1e-ba9f-d6905ced00da"
      },
      "execution_count": null,
      "outputs": [
        {
          "output_type": "stream",
          "name": "stdout",
          "text": [
            "### 영화별 긍정 review 수 ###\n",
            "title\n",
            "공조2                2\n",
            "블랙 펜서 : 와칸다 포에버    1\n",
            "비상선언               3\n",
            "자백                 8\n",
            "Name: predicted_label, dtype: int64\n"
          ]
        }
      ]
    },
    {
      "cell_type": "code",
      "source": [
        "mask=test_df['label']!=test_df['predicted_label']"
      ],
      "metadata": {
        "id": "3HaSBTN3fo-Q"
      },
      "execution_count": null,
      "outputs": []
    },
    {
      "cell_type": "code",
      "source": [
        "print('### 예측이 잘못된 review')\n",
        "print(test_df.loc[mask,['review']])"
      ],
      "metadata": {
        "id": "LRGj89eEgSPD",
        "colab": {
          "base_uri": "https://localhost:8080/"
        },
        "outputId": "54a64826-db3c-4c8f-cdbd-d358483bd848"
      },
      "execution_count": null,
      "outputs": [
        {
          "output_type": "stream",
          "name": "stdout",
          "text": [
            "### 예측이 잘못된 review\n",
            "                                          review\n",
            "3   전편만한 속편 없겠으나 주인공이 부재한 상황에서는 할수있는 최선의 선택으로 보임\n",
            "8                                  내용은 그저그럼눈이 행복\n",
            "18                         진행 될 수록 불편했고 마음이 복잡했다\n"
          ]
        }
      ]
    },
    {
      "cell_type": "code",
      "source": [
        "print(test_df.tail())"
      ],
      "metadata": {
        "id": "rFUtj95FjMJW",
        "colab": {
          "base_uri": "https://localhost:8080/"
        },
        "outputId": "9ace1803-1301-4653-880c-f284eb86ff82"
      },
      "execution_count": null,
      "outputs": [
        {
          "output_type": "stream",
          "name": "stdout",
          "text": [
            "   title                                   review  label  predicted_label\n",
            "24    자백                         반전의 반전이 계속 되는 영화      1                1\n",
            "25    자백                             몰입감 높고 재미있어요      1                1\n",
            "26    자백                 와 반전 나나 연기 생각보다 잘해서 놀랐네요      1                1\n",
            "27    자백  원작 보고 봤는데도 쫄깃하네요 막판에 반전 부분 연출이 정말 좋았습니다      1                1\n",
            "28    자백                     스페인원작의 팽팽한 긴장감이 사라졌다      0                0\n"
          ]
        }
      ]
    },
    {
      "cell_type": "code",
      "source": [
        "test_df.to_csv('202044020-이가온 review_results.txt')"
      ],
      "metadata": {
        "id": "Z-YF6LP7m05P"
      },
      "execution_count": null,
      "outputs": []
    }
  ]
}
