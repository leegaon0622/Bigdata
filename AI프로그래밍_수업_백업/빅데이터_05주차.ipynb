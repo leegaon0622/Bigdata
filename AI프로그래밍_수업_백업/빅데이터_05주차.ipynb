{
  "nbformat": 4,
  "nbformat_minor": 0,
  "metadata": {
    "colab": {
      "provenance": [],
      "include_colab_link": true
    },
    "kernelspec": {
      "name": "python3",
      "display_name": "Python 3"
    },
    "language_info": {
      "name": "python"
    }
  },
  "cells": [
    {
      "cell_type": "markdown",
      "metadata": {
        "id": "view-in-github",
        "colab_type": "text"
      },
      "source": [
        "<a href=\"https://colab.research.google.com/github/leegaon0622/Bigdata/blob/main/%EB%B9%85%EB%8D%B0%EC%9D%B4%ED%84%B0_05%EC%A3%BC%EC%B0%A8.ipynb\" target=\"_parent\"><img src=\"https://colab.research.google.com/assets/colab-badge.svg\" alt=\"Open In Colab\"/></a>"
      ]
    },
    {
      "cell_type": "markdown",
      "source": [
        "1. iris3.csv를 읽고   \n",
        "1) species 열의 고유값을 프린트 하고  \n",
        "2) sepal_length 열의 값을 첫번째 방법으로 정규화 하고    \n",
        "3) sepal_width 열의 값을 두번째 방법으로 정규화하고  \n",
        "4) sepal_length 열과 sepal_width 열의 통계 정보를 print하는 code를 작성 하시오.  \n"
      ],
      "metadata": {
        "id": "rJLHNYNopqB1"
      }
    },
    {
      "cell_type": "code",
      "execution_count": null,
      "metadata": {
        "id": "vmnFhKR9n9Sa"
      },
      "outputs": [],
      "source": [
        "import pandas as pd\n",
        "\n",
        "df = pd.read_csv('/content/iris3.csv')\n",
        "print(df)\n",
        "print(df.columns)\n",
        "\n",
        "#1)\n",
        "print(df['species'].unique())\n",
        "\n",
        "#2)\n",
        "df.sepal_length=df.sepal_length/abs(df.sepal_length.max())\n",
        "\n",
        "#3)\n",
        "min_x=df.sepal_width-df.sepal_width.min()\n",
        "min_max=df.sepal_width.max()-df.sepal_width.min()\n",
        "df.sepal_width=min_x/min_max\n",
        "\n",
        "#4)\n",
        "print(df[['sepal_length','sepal_width']].describe())\n",
        "\n",
        "\n"
      ]
    },
    {
      "cell_type": "markdown",
      "source": [
        "2. iris3.csv를 읽고   \n",
        "1) petal_length과 petal_width 열에 mean_min 함수를  적용하고  \n",
        "2) 결과 값을 프린트 하는 code를 작성 하시오"
      ],
      "metadata": {
        "id": "u8mzSAsYwsXf"
      }
    },
    {
      "cell_type": "code",
      "source": [
        "%reset -f\n",
        "import pandas as pd\n",
        "\n",
        "df = pd.read_csv('/content/iris3.csv')\n",
        "\n",
        "def mean_min(x):\n",
        "     return x.mean()-x.min()\n",
        "\n",
        "#1)\n",
        "dfn=df[['petal_length','petal_width']]\n",
        "result=dfn.apply(mean_min)\n",
        "#2)\n",
        "print(result)\n"
      ],
      "metadata": {
        "id": "wGHR8JQkwFUq"
      },
      "execution_count": null,
      "outputs": []
    },
    {
      "cell_type": "markdown",
      "source": [
        "3. titanic 데이터에서  \n",
        "1)  age 열이 25세 이상이고 남성인  행만 구하고  \n",
        "2)  이중 앞의 5행만 print하는 하는 code를 작성 하시오\n"
      ],
      "metadata": {
        "id": "qJ75TeG0zN0e"
      }
    },
    {
      "cell_type": "code",
      "source": [
        "%reset -f\n",
        "import pandas as pd\n",
        "import seaborn as sns\n",
        "\n",
        "titanic=sns.load_dataset('titanic')\n",
        "\n",
        "#1)\n",
        "mask1=(titanic.age>=25)&(titanic.sex=='male')\n",
        "titanic_selected=titanic.loc[mask1,:]\n",
        "\n",
        "#2)\n",
        "print(titanic_selected.head())\n"
      ],
      "metadata": {
        "id": "YEgnkWgqy27o"
      },
      "execution_count": null,
      "outputs": []
    },
    {
      "cell_type": "markdown",
      "source": [
        "4. 아래의 code에서 정의 되는 df1, df2, df3에서  \n",
        "1) df1과 df2를 위 아래로 연결하고 새로운 인덱스를 설정하여 print 히고    \n",
        "2) df1과 df3를 좌 우로 연결 하고  print하는    \n",
        "code를 작성 하시오   "
      ],
      "metadata": {
        "id": "Z8Sqwzuh6HAQ"
      }
    },
    {
      "cell_type": "code",
      "source": [
        "%reset -f\n",
        "import pandas as pd\n",
        "\n",
        "# 데이터 프레임 1\n",
        "df1 = pd.DataFrame([['a', 1],\n",
        "                    ['b', 2]],\n",
        "                       columns=['letter', 'number'])\n",
        "print(df1)\n",
        "# 데이터 프레임 2\n",
        "df2 = pd.DataFrame([['c', 3],\n",
        "                    ['d', 4]],\n",
        "                   columns=['letter', 'number'])\n",
        "print(df2)\n",
        "#데이터 프레임 3\n",
        "df3 = pd.DataFrame([['bird', 'polly'],\n",
        "                    ['monkey', 'george']],\n",
        "                   columns=['animal', 'name'])\n",
        "print(df3)\n",
        "\n",
        "#1)\n",
        "print(pd.concat([df1,df2],ignore_index=True))\n",
        "#2)\n",
        "print(pd.concat([df1,df3],axis=1))\n"
      ],
      "metadata": {
        "id": "nvCPbZIZ52Pk",
        "colab": {
          "base_uri": "https://localhost:8080/"
        },
        "outputId": "589cde18-99c3-4b97-bbd7-a8354d0a90de"
      },
      "execution_count": null,
      "outputs": [
        {
          "output_type": "stream",
          "name": "stdout",
          "text": [
            "  letter  number\n",
            "0      a       1\n",
            "1      b       2\n",
            "  letter  number\n",
            "0      c       3\n",
            "1      d       4\n",
            "   animal    name\n",
            "0    bird   polly\n",
            "1  monkey  george\n",
            "  letter  number\n",
            "0      a       1\n",
            "1      b       2\n",
            "2      c       3\n",
            "3      d       4\n",
            "  letter  number  animal    name\n",
            "0      a       1    bird   polly\n",
            "1      b       2  monkey  george\n"
          ]
        }
      ]
    },
    {
      "cell_type": "markdown",
      "source": [
        "5.아래의 code에서 정의 되는 adf, bdf에서  \n",
        "1) x1 열을 기준으로 adf, bdf의 교집합을 병합하고 print  \n",
        "2) x1 영을 기준으로 adf, bdf의 합집합을 병합하고 print  \n",
        "3) x1 열을 기준으로 왼쪽 데이터 프레임(adf)을 기준으로 병합하고 print  \n",
        "4)  x1 열을 기준으로 오른쪽 데이터 프레임(bdf)을 기준으로 병합하고 print  \n",
        "하는 code를 작성하시오\n"
      ],
      "metadata": {
        "id": "hf9uQI2j7C0f"
      }
    },
    {
      "cell_type": "code",
      "source": [
        "%reset -f\n",
        "import pandas as pd\n",
        "\n",
        "# 실습을 위한 데이터 프레임 만들기 1\n",
        "adf = pd.DataFrame({\"x1\" : [\"A\",\"B\",\"C\"],\n",
        "                    \"x2\": [1,2,3]})\n",
        "print(adf)\n",
        "# 데이터 프레임 만들기 2\n",
        "bdf = pd.DataFrame({\"x1\" : [\"A\",\"B\",\"D\"],\n",
        "                    \"x3\": [\"T\",\"F\",\"T\"]})\n",
        "print(bdf)\n",
        "\n",
        "#1)\n",
        "print(pd.merge(adf,bdf, how='inner',on='x1'))\n",
        "\n",
        "#2)\n",
        "print(pd.merger(adf,bdf,how='outer',on='x1'))\n",
        "\n",
        "#3)\n",
        "print(pd.merge(adf, bdf, how='left', on='x1'))\n",
        "\n",
        "#4)\n",
        "print(pd.merge(adf, bdf, how='right', on='x1'))\n"
      ],
      "metadata": {
        "id": "NjtO7l8d73Lf"
      },
      "execution_count": null,
      "outputs": []
    },
    {
      "cell_type": "markdown",
      "source": [
        "6.exam2.csv 파일을 읽고   \n",
        "1) nclass 기준으로 group별 평균을 구하고 print하고  \n",
        "2) nclass 기준으로 group별 최고점을 구하고 print하는  \n",
        "code를 작성 하시오  \n"
      ],
      "metadata": {
        "id": "fvAlVxiD-W_e"
      }
    },
    {
      "cell_type": "code",
      "source": [
        "%reset -f\n",
        "import pandas as pd\n",
        "\n",
        "df = pd.read_csv('/content/exam2.csv')\n",
        "print(df)\n",
        "\n",
        "#1)\n",
        "print(df.groupby('nclass').mean())\n",
        "\n",
        "#2)\n",
        "print(df.groupby('nclass').max())"
      ],
      "metadata": {
        "id": "O7AVSYr_-S1J"
      },
      "execution_count": null,
      "outputs": []
    },
    {
      "cell_type": "markdown",
      "source": [
        "(선택) 7. stock price 파일과 stock valuation 파일을 이용하는 문제입니다   \n",
        "1) id를 중심으로 병합된 데이터프레임(adf)를 만들어주세요, (교집합)  \n",
        "2) adf 데이터프레임을 이용해 시가총액(value)이 10000 이상인 기업들의 주가(price), 주가수익비율(per), 주가자산비율(pbr)의 표준편차를 구하세요  \n",
        "3) adf 데이터프레임을 사용합니다.    \n",
        "주가수익비율(per)은 주가(price)에서 주당순이익(eps)을 나눠서 계산합니다.    \n",
        "예시) per = price/eps    \n",
        "3-1) 기존의 per열은 삭제한 후 새롭게 per_new열을 price와 eps 를 사용해 추가해주세요    \n",
        "3-2) per_new값이 15 이상인 기업은 고평가 15미만인 기업은 저평가를 나타내주는 per_value 열을 만들어주세요 (단, lambda와 apply를 사용해주세요)  \n",
        "4) adf를 프린트 합니다.   "
      ],
      "metadata": {
        "id": "Fus6vgqeAheD"
      }
    },
    {
      "cell_type": "code",
      "source": [
        "%reset -f\n",
        "import numpy as np\n",
        "import pandas as pd\n",
        "\n",
        "df1 = pd.read_excel('stock price.xlsx')\n",
        "df2 = pd.read_excel('stock valuation.xlsx')\n",
        "\n",
        "#1)\n",
        "adf=pd.merge(df1,df2,on='id')\n",
        "\n",
        "#2)\n",
        "mask1=adf.value>1000\n",
        "adf.loc[mask1,['price','per','pbr']].std()\n",
        "\n",
        "#3-1)\n",
        "adf.drop(['per'],axis=1,inplace=True)\n",
        "adf['per_new'] = adf['price'] / adf['eps']\n",
        "\n",
        "#3-2)\n",
        "adf['per_value'] = adf['per_new'].apply(lambda x:'고평가' if x >=15 else '저평가')\n",
        "\n",
        "#4)\n",
        "print(adf)\n",
        "\n",
        "\n"
      ],
      "metadata": {
        "id": "ekueK-pTCNbV",
        "colab": {
          "base_uri": "https://localhost:8080/"
        },
        "outputId": "b02f0772-61d2-4f4e-de64-1fbebcd63ab7"
      },
      "execution_count": null,
      "outputs": [
        {
          "output_type": "stream",
          "name": "stdout",
          "text": [
            "       id stock_name          value   price    name           eps     bps  \\\n",
            "0  130960     CJ E&M   58540.666667   98900  CJ E&M   6301.333333   54068   \n",
            "1  139480        이마트  239230.833333  254500     이마트  18268.166667  295780   \n",
            "2  145990        삼양사   82750.000000   82000     삼양사   5741.000000  108090   \n",
            "3  185750        종근당   40293.666667  100500     종근당   3990.333333   40684   \n",
            "4  204210     모두투어리츠    3093.333333    3475  모두투어리츠     85.166667    5335   \n",
            "\n",
            "        pbr    per_new per_value  \n",
            "0  1.829178  15.695091       고평가  \n",
            "1  0.860437  13.931338       저평가  \n",
            "2  0.758627  14.283226       저평가  \n",
            "3  2.470259  25.185866       고평가  \n",
            "4  0.651359  40.802348       고평가  \n"
          ]
        }
      ]
    }
  ]
}
